{
 "cells": [
  {
   "cell_type": "markdown",
   "id": "57668043-2694-44b2-b44f-229a2529d134",
   "metadata": {},
   "source": [
    "**Question 1**"
   ]
  },
  {
   "cell_type": "code",
   "execution_count": null,
   "id": "2c610b4c-75c0-44dd-bfad-61aa3ab4e7df",
   "metadata": {
    "scrolled": true
   },
   "outputs": [],
   "source": [
    "import numpy as np\n",
    "arr=np.random.randint(low=1,high=100,size=(4,4,4))\n",
    "print(arr)\n",
    "mean=arr.mean()\n",
    "std_dev=arr.std()\n",
    "print(\"-\"*150)\n",
    "z_value=(arr-mean)/std_dev\n",
    "print(f'Z_Score : \\n',z_value)"
   ]
  },
  {
   "cell_type": "markdown",
   "id": "b55b1d11-727e-42fd-aa19-532810fedb93",
   "metadata": {},
   "source": [
    "**Question 2**"
   ]
  },
  {
   "cell_type": "code",
   "execution_count": null,
   "id": "7531a92c-ffc5-417e-a0f1-abe58d2a2863",
   "metadata": {},
   "outputs": [],
   "source": [
    "import pandas as pd\n",
    "from sklearn import datasets\n",
    "iris = datasets.load_iris()\n",
    "iris_df = pd.DataFrame(\n",
    "    data=iris.data, \n",
    "    columns=iris.feature_names\n",
    ")\n",
    "arr=iris_df[iris.feature_names[2]]>3.0\n",
    "filtered_df = iris_df[arr]\n",
    "\n",
    "print(filtered_df)"
   ]
  },
  {
   "cell_type": "markdown",
   "id": "cb769a50-1ca8-4f8b-bb03-cc628e469661",
   "metadata": {},
   "source": [
    "**Question 3**"
   ]
  },
  {
   "cell_type": "code",
   "execution_count": null,
   "id": "dd4b9ac8-04f7-4222-990c-ef4ef46a0d5c",
   "metadata": {},
   "outputs": [],
   "source": [
    "import numpy as np\n",
    "import matplotlib as mp\n",
    "import matplotlib.pyplot as plt\n",
    "arr1=np.arange(-100,101)\n",
    "arr2=arr1**2\n",
    "plt.title(\"Plot of X-Y\")\n",
    "plt.xlabel(\"Variable X\")\n",
    "plt.ylabel(\"Variable Y\")\n",
    "plt.plot(arr1,arr2)\n",
    "plt.grid()\n",
    "plt.show()"
   ]
  },
  {
   "cell_type": "markdown",
   "id": "94d37a82-51af-41c3-be60-edcc806aad06",
   "metadata": {},
   "source": [
    "**Question 4**"
   ]
  },
  {
   "cell_type": "code",
   "execution_count": null,
   "id": "8900dd22-ffa2-454b-beae-ec247b50e949",
   "metadata": {},
   "outputs": [],
   "source": [
    "import pandas as pd\n",
    "import numpy as np\n",
    "data = {\n",
    "    \"A\": np.random.choice([1, 2, 3, np.nan], size=10),\n",
    "    \"B\": np.random.choice([10, 20, 30, np.nan], size=10),\n",
    "    \"C\": np.random.choice([100, 200, 300, np.nan], size=10),\n",
    "}\n",
    "df = pd.DataFrame(data)\n",
    "df_filled = df.copy()\n",
    "df_filled = df_filled.fillna(df_filled.mean())\n",
    "\n",
    "df_sorted = df_filled.sort_values(by=[\"A\", \"B\"], ascending=[True, False])\n",
    "\n",
    "# Display the DataFrames\n",
    "print(\"Original DataFrame:\")\n",
    "print(df)\n",
    "print(\"\\nDataFrame after replacing NaN values:\")\n",
    "print(df_filled)\n",
    "print(\"\\nDataFrame sorted by columns 'A' and 'B':\")\n",
    "print(df_sorted)"
   ]
  },
  {
   "cell_type": "markdown",
   "id": "a177ec7d-bf64-4775-99e9-88b696e3b990",
   "metadata": {},
   "source": [
    "**Question 5**"
   ]
  },
  {
   "cell_type": "code",
   "execution_count": null,
   "id": "10e4238a-7e22-4b84-b229-2e7b5e4e0113",
   "metadata": {},
   "outputs": [],
   "source": [
    "import numpy as np\n",
    "arr1 = np.random.randint(1,10,(3,3))\n",
    "print(f'Matrix 1 : \\n',arr1)\n",
    "arr2 = np.random.randint(1,10,(3,3))\n",
    "print('-'*15)\n",
    "print(f'Matrix 2 : \\n',arr2)\n",
    "print('-'*15)\n",
    "arr3=arr1@arr2\n",
    "print(f'Matrix Product : \\n',arr3)\n",
    "print('-'*15)\n",
    "det = np.linalg.det(arr3)\n",
    "print(f'Determinant is : ',det)"
   ]
  },
  {
   "cell_type": "markdown",
   "id": "452df3f2-949a-47a9-9bf1-cdfa52c72dbc",
   "metadata": {},
   "source": [
    "**Question 6**"
   ]
  },
  {
   "cell_type": "code",
   "execution_count": null,
   "id": "2dc9a40d-6393-4a3a-a679-adcbb042cc89",
   "metadata": {},
   "outputs": [],
   "source": [
    "import pandas as pd\n",
    "\n",
    "# Sample DataFrame\n",
    "data = {\n",
    "    'Category': ['A', 'B', 'A', 'C', 'B', 'A'],\n",
    "    'Value': [10, 20, 30, 40, 50, 60]\n",
    "}\n",
    "df = pd.DataFrame(data)\n",
    "\n",
    "grouped_sum = df.groupby('Category')['Value'].sum()\n",
    "\n",
    "print(grouped_sum)"
   ]
  },
  {
   "cell_type": "markdown",
   "id": "e5e47ad8-3474-4321-9e6b-1c4a81447806",
   "metadata": {},
   "source": [
    "**Question 7**"
   ]
  },
  {
   "cell_type": "code",
   "execution_count": null,
   "id": "f1ff8292-e992-4e83-89a9-543c08d9145c",
   "metadata": {},
   "outputs": [],
   "source": [
    "import numpy as np\n",
    "import matplotlib as mt\n",
    "import matplotlib.pyplot as plt\n",
    "plt.hist(np.random.randn(100), bins = 20)\n",
    "plt.grid()\n",
    "plt.xlabel(\"Values\")\n",
    "plt.ylabel(\"Frequency\")\n",
    "plt.title(\"Histogram of Random Values\")\n",
    "plt.show()"
   ]
  },
  {
   "cell_type": "code",
   "execution_count": null,
   "id": "7071182a-306a-4b02-98bd-4a013240fbcf",
   "metadata": {},
   "outputs": [],
   "source": [
    "import numpy as np\n",
    "import matplotlib as mt\n",
    "import matplotlib.pyplot as plt\n",
    "plt.hist(np.random.randn(1000), bins = 100)\n",
    "plt.grid()\n",
    "plt.xlabel(\"Values\")\n",
    "plt.ylabel(\"Frequency\")\n",
    "plt.title(\"Histogram of Random Values\")\n",
    "plt.show()"
   ]
  },
  {
   "cell_type": "markdown",
   "id": "a8c8adea-2b6c-4e23-9b98-950c1f3f924b",
   "metadata": {},
   "source": [
    "**Question 8**"
   ]
  },
  {
   "cell_type": "code",
   "execution_count": null,
   "id": "7ef3a23f-b3c0-4c22-b832-cedfc9d10f77",
   "metadata": {},
   "outputs": [],
   "source": [
    "import numpy as np\n",
    "arr1=np.random.randint(1,100,(3,3))\n",
    "print(arr1)\n",
    "print('-'*15)\n",
    "print(arr1[0:3]) #start:stop"
   ]
  },
  {
   "cell_type": "markdown",
   "id": "d861e780-5bca-4a6f-90aa-4540d15c9c51",
   "metadata": {},
   "source": [
    "**Question 9**"
   ]
  },
  {
   "cell_type": "code",
   "execution_count": null,
   "id": "1bf146d5-7ccd-4117-8fcb-5c9ab08c817a",
   "metadata": {},
   "outputs": [],
   "source": [
    "import pandas as pd\n",
    "import numpy as np\n",
    "\n",
    "data1 = {\n",
    "    'id': np.arange(1, 11), \n",
    "    'Feature1': np.random.randint(10, 100, 10),\n",
    "    'Feature2': np.random.rand(10)\n",
    "}\n",
    "df1 = pd.DataFrame(data1)\n",
    "\n",
    "#\n",
    "data2 = {\n",
    "    'id': np.arange(6, 16),  \n",
    "    'Feature3': np.random.randint(100, 200, 10),\n",
    "    'Feature4': np.random.rand(10)\n",
    "}\n",
    "df2 = pd.DataFrame(data2)\n",
    "\n",
    "\n",
    "merged_df = pd.merge(df1, df2, on='id', how='inner')  \n",
    "print(\"DataFrame 1:\\n\", df1)\n",
    "print(\"\\nDataFrame 2:\\n\", df2)\n",
    "print(\"\\nMerged DataFrame:\\n\", merged_df)"
   ]
  },
  {
   "cell_type": "markdown",
   "id": "24b57bca-2da1-4a5c-9829-8af9ad7daf31",
   "metadata": {},
   "source": [
    "**Question 10**"
   ]
  },
  {
   "cell_type": "code",
   "execution_count": null,
   "id": "67eedc65-4485-4b03-aa6f-d28003f2f396",
   "metadata": {},
   "outputs": [],
   "source": [
    "import matplotlib.pyplot as plt\n",
    "import numpy as np\n",
    "import matplotlib as mt\n",
    "x = np.random.randint(0,50,100)   \n",
    "y = np.random.randint(0,500,100) \n",
    "plt.scatter(x, y, color='purple', marker='*')\n",
    "\n",
    "# Adding titles and labels\n",
    "plt.title(\"Scatter Plot of Two Numerical Variables\")\n",
    "plt.xlabel(\"Variable X\")\n",
    "plt.ylabel(\"Variable Y\")\n",
    "\n",
    "# Display the plot\n",
    "plt.grid()\n",
    "plt.show()"
   ]
  },
  {
   "cell_type": "code",
   "execution_count": null,
   "id": "53ad443a-f6c2-4f69-a47b-053f11017f74",
   "metadata": {},
   "outputs": [],
   "source": []
  }
 ],
 "metadata": {
  "kernelspec": {
   "display_name": "Python 3 (ipykernel)",
   "language": "python",
   "name": "python3"
  },
  "language_info": {
   "codemirror_mode": {
    "name": "ipython",
    "version": 3
   },
   "file_extension": ".py",
   "mimetype": "text/x-python",
   "name": "python",
   "nbconvert_exporter": "python",
   "pygments_lexer": "ipython3",
   "version": "3.12.7"
  }
 },
 "nbformat": 4,
 "nbformat_minor": 5
}
